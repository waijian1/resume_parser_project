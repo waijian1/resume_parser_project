{
 "cells": [
  {
   "cell_type": "code",
   "execution_count": 1,
   "id": "8089e14e-21b9-4dfd-84af-97d0519452b6",
   "metadata": {},
   "outputs": [],
   "source": [
    "import boto3\n",
    "import time\n",
    "import json\n",
    "import logging\n",
    "import os"
   ]
  },
  {
   "cell_type": "code",
   "execution_count": 2,
   "id": "050cfe47-eecd-4693-8650-4592f4e2b1dc",
   "metadata": {},
   "outputs": [],
   "source": [
    "# Set up logging if not already done\n",
    "logging.basicConfig(level=logging.INFO, format='%(asctime)s - %(levelname)s - %(message)s')"
   ]
  },
  {
   "cell_type": "code",
   "execution_count": 9,
   "id": "e31a2b05-0cb4-449c-af4d-e9f5f8fdf866",
   "metadata": {},
   "outputs": [],
   "source": [
    "# --- CONFIGURATION ---\n",
    "S3_BUCKET_NAME = \"resume-parser-waijian-20250525\"\n",
    "# Let's target one specific folder first\n",
    "S3_PREFIX = \"resume/ACCOUNTANT/\"\n",
    "TEXTRACT_ROLE_ARN = 'arn:aws:iam::747549824523:role/TextractS3AccessRole'\n",
    "AWS_REGION = \"ap-southeast-1\"\n",
    "# --- END CONFIGURATION ---"
   ]
  },
  {
   "cell_type": "code",
   "execution_count": 4,
   "id": "e9df8885-824f-4bec-a322-9513a80dcbc5",
   "metadata": {},
   "outputs": [
    {
     "name": "stderr",
     "output_type": "stream",
     "text": [
      "2025-05-26 01:18:00,346 - INFO - Found credentials in shared credentials file: ~/.aws/credentials\n",
      "2025-05-26 01:18:00,414 - INFO - Setup complete. Bucket: resume-parser-waijian-20250525, Prefix: resume/ACCOUNTANT/\n"
     ]
    }
   ],
   "source": [
    "# Create Boto3 clients\n",
    "s3_client = boto3.client('s3', region_name=AWS_REGION)\n",
    "textract_client = boto3.client('textract', region_name=AWS_REGION)\n",
    "\n",
    "logging.info(f\"Setup complete. Bucket: {S3_BUCKET_NAME}, Prefix: {S3_PREFIX}\")"
   ]
  },
  {
   "cell_type": "code",
   "execution_count": 5,
   "id": "91377d4f-5e0d-4b9e-a4d7-a1e29f8eac06",
   "metadata": {},
   "outputs": [
    {
     "name": "stderr",
     "output_type": "stream",
     "text": [
      "2025-05-26 01:22:54,231 - INFO - Found 5 PDFs in S3 under resume/ACCOUNTANT/ (showing max 5).\n"
     ]
    },
    {
     "name": "stdout",
     "output_type": "stream",
     "text": [
      "Files to process:\n",
      "['resume/ACCOUNTANT/10554236.pdf', 'resume/ACCOUNTANT/10674770.pdf', 'resume/ACCOUNTANT/11163645.pdf', 'resume/ACCOUNTANT/11759079.pdf', 'resume/ACCOUNTANT/12065211.pdf']\n"
     ]
    }
   ],
   "source": [
    "def list_s3_files(bucket, prefix, max_keys=10):\n",
    "    \"\"\"Lists files in an S3 bucket under a given prefix.\"\"\"\n",
    "    try:\n",
    "        response = s3_client.list_objects_v2(Bucket=bucket, Prefix=prefix, MaxKeys=max_keys)\n",
    "        files = [item['Key'] for item in response.get('Contents', []) if item['Key'].lower().endswith('.pdf')]\n",
    "        logging.info(f\"Found {len(files)} PDFs in S3 under {prefix} (showing max {max_keys}).\")\n",
    "        return files\n",
    "    except Exception as e:\n",
    "        logging.error(f\"Error listing S3 files: {e}\")\n",
    "        return []\n",
    "\n",
    "pdf_files_to_process = list_s3_files(S3_BUCKET_NAME, S3_PREFIX, max_keys=5) # Let's start with 5\n",
    "print(\"Files to process:\")\n",
    "print(pdf_files_to_process)"
   ]
  },
  {
   "cell_type": "code",
   "execution_count": 16,
   "id": "fa4a91e7-16e6-4392-9d0f-863a2243f2ca",
   "metadata": {},
   "outputs": [
    {
     "name": "stderr",
     "output_type": "stream",
     "text": [
      "2025-05-26 01:34:22,662 - INFO - Starting Textract job for: resume/ACCOUNTANT/10554236.pdf\n",
      "2025-05-26 01:34:24,070 - INFO - Started Job with ID: 2491be29f3283a5ac36b2ae181dc30c4b850d7971040eee5d9aac3f0451c28ab\n"
     ]
    }
   ],
   "source": [
    "def start_textract_job(bucket, document_key):\n",
    "    \"\"\"Starts an asynchronous Textract job.\"\"\"\n",
    "    if not document_key:\n",
    "        logging.error(\"No document key provided.\")\n",
    "        return None\n",
    "\n",
    "    logging.info(f\"Starting Textract job for: {document_key}\")\n",
    "    try:\n",
    "        response = textract_client.start_document_text_detection(\n",
    "            DocumentLocation={\n",
    "                'S3Object': {\n",
    "                    'Bucket': bucket,\n",
    "                    'Name': document_key\n",
    "                }\n",
    "            }\n",
    "        )\n",
    "        job_id = response['JobId']\n",
    "        logging.info(f\"Started Job with ID: {job_id}\")\n",
    "        return job_id\n",
    "    except Exception as e:\n",
    "        logging.error(f\"Error starting Textract job for {document_key}: {e}\")\n",
    "        return None\n",
    "\n",
    "# Start a job for the *first* PDF in our list (if any)\n",
    "current_job_id = None\n",
    "if pdf_files_to_process:\n",
    "    first_pdf = pdf_files_to_process[0]\n",
    "    current_job_id = start_textract_job(S3_BUCKET_NAME, first_pdf)\n",
    "else:\n",
    "    logging.warning(\"No PDFs found to process.\")"
   ]
  },
  {
   "cell_type": "code",
   "execution_count": 18,
   "id": "d5738fca-e243-4519-b30f-4d57f57ca3f0",
   "metadata": {},
   "outputs": [
    {
     "name": "stderr",
     "output_type": "stream",
     "text": [
      "2025-05-26 01:37:32,109 - INFO - Checking status for Job ID: 2491be29f3283a5ac36b2ae181dc30c4b850d7971040eee5d9aac3f0451c28ab\n",
      "2025-05-26 01:37:32,768 - INFO - Current Status: SUCCEEDED\n",
      "2025-05-26 01:37:32,769 - INFO - Job 2491be29f3283a5ac36b2ae181dc30c4b850d7971040eee5d9aac3f0451c28ab SUCCEEDED!\n"
     ]
    }
   ],
   "source": [
    "def check_textract_job_status(job_id):\n",
    "    \"\"\"Checks the status of a Textract job.\"\"\"\n",
    "    if not job_id:\n",
    "        logging.error(\"No Job ID provided.\")\n",
    "        return None\n",
    "\n",
    "    logging.info(f\"Checking status for Job ID: {job_id}\")\n",
    "    try:\n",
    "        response = textract_client.get_document_text_detection(JobId=job_id)\n",
    "        status = response['JobStatus']\n",
    "        logging.info(f\"Current Status: {status}\")\n",
    "        return status\n",
    "    except Exception as e:\n",
    "        logging.error(f\"Error checking job status {job_id}: {e}\")\n",
    "        return \"FAILED\" # Treat errors as failures\n",
    "\n",
    "def wait_for_job_completion(job_id, delay=5, timeout=300):\n",
    "    \"\"\"Waits for a Textract job to complete by polling.\"\"\"\n",
    "    if not job_id: return False\n",
    "\n",
    "    start_time = time.time()\n",
    "    while time.time() - start_time < timeout:\n",
    "        status = check_textract_job_status(job_id)\n",
    "        if status == 'SUCCEEDED':\n",
    "            logging.info(f\"Job {job_id} SUCCEEDED!\")\n",
    "            return True\n",
    "        elif status in ['FAILED', 'PARTIAL_SUCCESS']:\n",
    "            logging.error(f\"Job {job_id} finished with status: {status}\")\n",
    "            return False\n",
    "        \n",
    "        logging.info(f\"Waiting for {delay} seconds...\")\n",
    "        time.sleep(delay)\n",
    "\n",
    "    logging.error(f\"Job {job_id} timed out after {timeout} seconds.\")\n",
    "    return False\n",
    "\n",
    "\n",
    "# Wait for the job we started (if any)\n",
    "job_succeeded = False\n",
    "if current_job_id:\n",
    "    job_succeeded = wait_for_job_completion(current_job_id)\n",
    "else:\n",
    "    logging.warning(\"No job was started.\")"
   ]
  },
  {
   "cell_type": "code",
   "execution_count": 20,
   "id": "8bfc8ec3-9fc3-4e9a-b730-057a75cf7511",
   "metadata": {},
   "outputs": [
    {
     "name": "stderr",
     "output_type": "stream",
     "text": [
      "2025-05-26 01:42:59,275 - INFO - Retrieving results for Job ID: 2491be29f3283a5ac36b2ae181dc30c4b850d7971040eee5d9aac3f0451c28ab\n",
      "2025-05-26 01:43:00,283 - INFO - Retrieved 3732 blocks for Job ID: 2491be29f3283a5ac36b2ae181dc30c4b850d7971040eee5d9aac3f0451c28ab\n"
     ]
    },
    {
     "name": "stdout",
     "output_type": "stream",
     "text": [
      "\n",
      "--- EXTRACTED TEXT (First 1000 chars) ---\n",
      "ACCOUNTANT\n",
      "Summary\n",
      "Financial Accountant specializing in financial planning, reporting and analysis within the Department of Defense.\n",
      "Highlights\n",
      "Account reconciliations\n",
      "Results-oriented\n",
      "Accounting operations professional\n",
      "Financial reporting\n",
      "Analysis of financial systems\n",
      "Critical thinking\n",
      "ERP (Enterprise Resource Planning) software.\n",
      "Excellent facilitator\n",
      "Accomplishments\n",
      "Served on a tiger team which identified and resolved General Ledger postings in DEAMS totaling $360B in accounting adjustments. This allowed\n",
      "for the first successful fiscal year-end close for 2012.\n",
      "In collaboration with DFAS Europe, developed an automated tool that identified duplicate obligations. This tool allowed HQ USAFE to\n",
      "deobligate over $5M in duplicate obligations.\n",
      "Experience\n",
      "Company Name July 2011 to November 2012 Accountant\n",
      "City, State\n",
      "Enterprise Resource Planning Office (ERO)\n",
      "In this position as an Accountant assigned to the Defense Enterprise Accounting and Management System (DEAMS) ERO I was\n",
      "responsible for i\n",
      "----------------------------------------\n"
     ]
    }
   ],
   "source": [
    "def get_textract_results(job_id):\n",
    "    \"\"\"Retrieves all pages of results for a completed Textract job.\"\"\"\n",
    "    if not job_id: return None\n",
    "    \n",
    "    logging.info(f\"Retrieving results for Job ID: {job_id}\")\n",
    "    all_blocks = []\n",
    "    next_token = None\n",
    "    \n",
    "    try:\n",
    "        while True:\n",
    "            if next_token:\n",
    "                response = textract_client.get_document_text_detection(JobId=job_id, NextToken=next_token)\n",
    "            else:\n",
    "                response = textract_client.get_document_text_detection(JobId=job_id)\n",
    "            \n",
    "            blocks = response.get('Blocks', [])\n",
    "            all_blocks.extend(blocks)\n",
    "            \n",
    "            next_token = response.get('NextToken')\n",
    "            if not next_token:\n",
    "                break # No more pages\n",
    "                \n",
    "        logging.info(f\"Retrieved {len(all_blocks)} blocks for Job ID: {job_id}\")\n",
    "        return all_blocks\n",
    "        \n",
    "    except Exception as e:\n",
    "        logging.error(f\"Error retrieving results for {job_id}: {e}\")\n",
    "        return None\n",
    "\n",
    "def extract_text_from_blocks(blocks):\n",
    "    \"\"\"Extracts plain text (lines) from Textract blocks.\"\"\"\n",
    "    if not blocks: return \"\"\n",
    "    \n",
    "    lines = []\n",
    "    for block in blocks:\n",
    "        if block['BlockType'] == 'LINE':\n",
    "            lines.append(block['Text'])\n",
    "            \n",
    "    return \"\\n\".join(lines)\n",
    "\n",
    "# Get and process results if the job succeeded\n",
    "if job_succeeded and current_job_id:\n",
    "    textract_blocks = get_textract_results(current_job_id)\n",
    "    \n",
    "    if textract_blocks:\n",
    "        # Optional: Save the full JSON for inspection\n",
    "        # with open(f'{current_job_id}.json', 'w') as f:\n",
    "        #     json.dump(textract_blocks, f, indent=4)\n",
    "        # logging.info(f\"Saved full JSON to {current_job_id}.json\")\n",
    "\n",
    "        # Extract and print the plain text\n",
    "        extracted_text = extract_text_from_blocks(textract_blocks)\n",
    "        print(\"\\n--- EXTRACTED TEXT (First 1000 chars) ---\")\n",
    "        print(extracted_text[:1000])\n",
    "        print(\"----------------------------------------\")\n",
    "        \n",
    "    else:\n",
    "        logging.error(\"Failed to retrieve Textract blocks.\")\n",
    "else:\n",
    "    logging.warning(\"Job did not succeed or no job was run. Cannot get results.\")"
   ]
  }
 ],
 "metadata": {
  "kernelspec": {
   "display_name": "Python 3 (ipykernel)",
   "language": "python",
   "name": "python3"
  },
  "language_info": {
   "codemirror_mode": {
    "name": "ipython",
    "version": 3
   },
   "file_extension": ".py",
   "mimetype": "text/x-python",
   "name": "python",
   "nbconvert_exporter": "python",
   "pygments_lexer": "ipython3",
   "version": "3.10.17"
  }
 },
 "nbformat": 4,
 "nbformat_minor": 5
}
